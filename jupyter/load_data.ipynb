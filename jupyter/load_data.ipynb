{
 "cells": [
  {
   "cell_type": "code",
   "execution_count": 34,
   "metadata": {},
   "outputs": [],
   "source": [
    "import pandas as pd\n",
    "import numpy as np\n",
    "import json"
   ]
  },
  {
   "cell_type": "markdown",
   "metadata": {},
   "source": [
    "## Load example parquets\n",
    "The data folder can contain multiple parquete files, reading the folder path will open them together"
   ]
  },
  {
   "cell_type": "code",
   "execution_count": 41,
   "metadata": {},
   "outputs": [
    {
     "name": "stdout",
     "output_type": "stream",
     "text": [
      "Number of samples in the the one example parquets: 100\n",
      "Number of samples in all parquets in the folder: 200\n"
     ]
    }
   ],
   "source": [
    "# Load individual parquet\n",
    "\n",
    "df_1 = pd.read_parquet(\"../data/example_data/example_data_1.parquet\")\n",
    "print(f\"Number of samples in the the one example parquets: {len(df_1)}\")\n",
    "\n",
    "\n",
    "# Read folder of parquets\n",
    "df = pd.read_parquet(\"../data/example_data/\")\n",
    "\n",
    "print(f\"Number of samples in all parquets in the folder: {len(df)}\")"
   ]
  },
  {
   "cell_type": "markdown",
   "metadata": {},
   "source": [
    "Specify columns for faster loading"
   ]
  },
  {
   "cell_type": "code",
   "execution_count": 43,
   "metadata": {},
   "outputs": [
    {
     "data": {
      "text/plain": [
       "\"Loaded parquete with only 'smiles' column\""
      ]
     },
     "metadata": {},
     "output_type": "display_data"
    },
    {
     "data": {
      "text/html": [
       "<div>\n",
       "<style scoped>\n",
       "    .dataframe tbody tr th:only-of-type {\n",
       "        vertical-align: middle;\n",
       "    }\n",
       "\n",
       "    .dataframe tbody tr th {\n",
       "        vertical-align: top;\n",
       "    }\n",
       "\n",
       "    .dataframe thead th {\n",
       "        text-align: right;\n",
       "    }\n",
       "</style>\n",
       "<table border=\"1\" class=\"dataframe\">\n",
       "  <thead>\n",
       "    <tr style=\"text-align: right;\">\n",
       "      <th></th>\n",
       "      <th>smiles</th>\n",
       "    </tr>\n",
       "  </thead>\n",
       "  <tbody>\n",
       "    <tr>\n",
       "      <th>2228</th>\n",
       "      <td>CC(C)CCNc1ncc(F)cc1C(=O)O</td>\n",
       "    </tr>\n",
       "    <tr>\n",
       "      <th>1784</th>\n",
       "      <td>Fc1ccc(-c2cccs2)s1</td>\n",
       "    </tr>\n",
       "  </tbody>\n",
       "</table>\n",
       "</div>"
      ],
      "text/plain": [
       "                         smiles\n",
       "2228  CC(C)CCNc1ncc(F)cc1C(=O)O\n",
       "1784         Fc1ccc(-c2cccs2)s1"
      ]
     },
     "metadata": {},
     "output_type": "display_data"
    },
    {
     "data": {
      "text/plain": [
       "\"Loaded parquete with 'smiles' and 'c_nmr_spectra' columns\""
      ]
     },
     "metadata": {},
     "output_type": "display_data"
    },
    {
     "data": {
      "text/html": [
       "<div>\n",
       "<style scoped>\n",
       "    .dataframe tbody tr th:only-of-type {\n",
       "        vertical-align: middle;\n",
       "    }\n",
       "\n",
       "    .dataframe tbody tr th {\n",
       "        vertical-align: top;\n",
       "    }\n",
       "\n",
       "    .dataframe thead th {\n",
       "        text-align: right;\n",
       "    }\n",
       "</style>\n",
       "<table border=\"1\" class=\"dataframe\">\n",
       "  <thead>\n",
       "    <tr style=\"text-align: right;\">\n",
       "      <th></th>\n",
       "      <th>smiles</th>\n",
       "      <th>c_nmr_spectra</th>\n",
       "    </tr>\n",
       "  </thead>\n",
       "  <tbody>\n",
       "    <tr>\n",
       "      <th>2228</th>\n",
       "      <td>CC(C)CCNc1ncc(F)cc1C(=O)O</td>\n",
       "      <td>[0.0, 0.0, 0.0, 0.0, 0.0, 0.0, 0.0, 0.0, 0.0, ...</td>\n",
       "    </tr>\n",
       "    <tr>\n",
       "      <th>1784</th>\n",
       "      <td>Fc1ccc(-c2cccs2)s1</td>\n",
       "      <td>[0.0, 0.0, 0.0, 0.0, 0.0, 0.0, 0.0, 0.0, 0.0, ...</td>\n",
       "    </tr>\n",
       "  </tbody>\n",
       "</table>\n",
       "</div>"
      ],
      "text/plain": [
       "                         smiles  \\\n",
       "2228  CC(C)CCNc1ncc(F)cc1C(=O)O   \n",
       "1784         Fc1ccc(-c2cccs2)s1   \n",
       "\n",
       "                                          c_nmr_spectra  \n",
       "2228  [0.0, 0.0, 0.0, 0.0, 0.0, 0.0, 0.0, 0.0, 0.0, ...  \n",
       "1784  [0.0, 0.0, 0.0, 0.0, 0.0, 0.0, 0.0, 0.0, 0.0, ...  "
      ]
     },
     "execution_count": 43,
     "metadata": {},
     "output_type": "execute_result"
    }
   ],
   "source": [
    "df_single_column = pd.read_parquet(\"../data/example_data/example_data_1.parquet\", columns=[\"smiles\"])\n",
    "display(\"Loaded parquete with only 'smiles' column\")\n",
    "display(df_single_column.head(2))\n",
    "\n",
    "\n",
    "df_two_column = pd.read_parquet(\n",
    "    \"../data/example_data/example_data_1.parquet\", columns=[\"smiles\", \"c_nmr_spectra\"]\n",
    ")\n",
    "display(\"Loaded parquete with 'smiles' and 'c_nmr_spectra' columns\")\n",
    "df_two_column.head(2)"
   ]
  },
  {
   "cell_type": "markdown",
   "metadata": {},
   "source": [
    "# Create MetaData Json"
   ]
  },
  {
   "cell_type": "code",
   "execution_count": 44,
   "metadata": {},
   "outputs": [],
   "source": [
    "hnmr_ppm = np.linspace(10, -2, 10000).tolist()\n",
    "cnmr_ppm = np.linspace(230, -20, 10000).tolist()\n",
    "ir_cm = np.linspace(400, 4000, 1800).tolist()\n",
    "two_d_h_nmr = np.linspace(10, -2, 512).tolist()\n",
    "two_d_c_nmr = np.linspace(230, -20, 512).tolist()\n"
   ]
  },
  {
   "cell_type": "code",
   "execution_count": 57,
   "metadata": {},
   "outputs": [],
   "source": [
    "# Define spectrum dimensions\n",
    "spectrum_dimensions = {\n",
    "    \"h_nmr_spectra\": {\"range\": [-2, 10], \"points\": 10000, \"unit\": \"ppm\", \"dimensions\":hnmr_ppm},\n",
    "    \"c_nmr_spectra\": {\"range\": [-20, 230], \"points\": 10000, \"unit\": \"ppm\",\"dimensions\":cnmr_ppm},\n",
    "    \"hsqc_nmr_spectrum_h\": {\"range\": [-2, 10], \"points\": 512, \"unit\": \"ppm\",\"dimensions\":two_d_h_nmr},\n",
    "    \"hsqc_nmr_spectrum_c\": {\"range\": [-20, 230], \"points\": 512, \"unit\": \"ppm\",\"dimensions\":two_d_c_nmr},\n",
    "    \"ir_spectra\": {\"range\": [400, 4000], \"points\": 1800, \"unit\": \"cm^{-1}\",\"dimensions\":ir_cm},\n",
    "}\n",
    "\n",
    "meta_data_dict = {\n",
    "    \"smiles\": {\n",
    "        \"format\": \"string\",\n",
    "        \"unit\": \"SMILES\",\n",
    "        \"info\": \"Canonical SMILES string generated using RDKit\",\n",
    "        \"example\": \"CC(C)CCNc1ncc(F)cc1C(=O)O\"\n",
    "    },\n",
    "    \"molecular_formula\": {\n",
    "        \"format\": \"string\",\n",
    "        \"unit\": \"Molecular formula\",\n",
    "        \"info\": \"Molecular formula determined by RDKit\",\n",
    "        \"example\": \"C11H15FN2O2\"\n",
    "    },\n",
    "    \"h_nmr_spectra\": {\n",
    "        \"format\": \"np.array(float)\",\n",
    "        \"dimensions\": hnmr_ppm,\n",
    "        \"info\": \"1D proton NMR spectrum intensity values\",\n",
    "        \"unit\": \"ppm\"\n",
    "    },\n",
    "    \"c_nmr_spectra\": {\n",
    "        \"format\": \"np.array(float)\",\n",
    "        \"dimensions\": cnmr_ppm,\n",
    "        \"info\": \"1D carbon-13 NMR spectrum intensity values\",\n",
    "        \"unit\": \"ppm\"\n",
    "    },\n",
    "    \"h_nmr_peaks\": {\n",
    "        \"format\": \"np.array(dict)\",\n",
    "        \"fields\": {\n",
    "            \"category\": \"str (multiplet type, e.g., 's', 'd', 't', 'm')\",\n",
    "            \"centroid\": \"float (peak center in ppm)\",\n",
    "            \"delta\": \"float (chemical shift in ppm)\",\n",
    "            \"j_values\": \"str (coupling constants in Hz, separated by '_')\",\n",
    "            \"nH\": \"int (number of protons)\",\n",
    "            \"rangeMax\": \"float (maximum shift of peak range)\",\n",
    "            \"rangeMin\": \"float (minimum shift of peak range)\"\n",
    "        },\n",
    "        \"info\": \"Array of peak information from 1H NMR spectrum automatically extracted\"\n",
    "    },\n",
    "    \"c_nmr_peaks\": {\n",
    "        \"format\": \"np.array(dict)\",\n",
    "        \"fields\": {\n",
    "            \"delta (ppm)\": \"float (chemical shift)\",\n",
    "            \"integral\": \"float (peak area)\",\n",
    "            \"intensity\": \"float (peak height)\",\n",
    "            \"width (ppm)\": \"float (peak width)\"\n",
    "        },\n",
    "        \"info\": \"Array of peak information from 13C NMR spectrum automatically extracted\",\n",
    "    },\n",
    "    \"hsqc_nmr_spectrum\": {\n",
    "        \"format\": \"np.array(np.array(float))\",\n",
    "        \"dimensions\": {\n",
    "            \"h\": two_d_h_nmr,\n",
    "            \"c\": two_d_c_nmr\n",
    "        },\n",
    "        \"unit\": \"ppm\",\n",
    "        \"info\": \"2D HSQC NMR spectrum intensity matrix. Use np.stack to make a 2D array out of it\"\n",
    "    },\n",
    "    \"hsqc_nmr_peaks\": {\n",
    "        \"format\": \"np.array(dict)\",\n",
    "        \"fields\": {\n",
    "            \"13C_centroid\": \"float (13C chemical shift)\",\n",
    "            \"13C_max\": \"float (maximum 13C shift)\",\n",
    "            \"13C_min\": \"float (minimum 13C shift)\",\n",
    "            \"1H_centroid\": \"float (1H chemical shift)\",\n",
    "            \"1H_max\": \"float (maximum 1H shift)\",\n",
    "            \"1H_min\": \"float (minimum 1H shift)\",\n",
    "            \"nH\": \"float (number of protons)\"\n",
    "        },\n",
    "        \"info\": \"Array of correlation peaks from HSQC spectrum\"\n",
    "    },\n",
    "    \"ir_spectra\": {\n",
    "        \"format\": \"np.array(float)\",\n",
    "        \"dimensions\": ir_cm,\n",
    "        \"info\": \"IR absorption spectrum intensity values, from 400cm^{-1} to 4000cm^{-1} using 1800points\",\n",
    "        \"unit\": \"cm^{-1}\"\n",
    "    },\n",
    "    \"msms_cfmid_positive_10ev\": {\n",
    "        \"format\": \"np.array(np.array([float, float]))\",\n",
    "        \"fields\": [\"m/z\", \"intensity\"],\n",
    "        \"normalization\": \"0-100\",\n",
    "        \"info\": \"MS/MS spectrum at 10eV collision energy in positive ion mode\"\n",
    "    },\n",
    "    \"msms_cfmid_positive_20ev\": {\n",
    "        \"format\": \"np.array(np.array([float, float]))\",\n",
    "        \"fields\": [\"m/z\", \"intensity\"],\n",
    "        \"normalization\": \"0-100\",\n",
    "        \"info\": \"MS/MS spectrum at 20eV collision energy in positive ion mode\"\n",
    "    },\n",
    "    \"msms_cfmid_positive_40ev\": {\n",
    "        \"format\": \"np.array(np.array([float, float]))\",\n",
    "        \"fields\": [\"m/z\", \"intensity\"],\n",
    "        \"normalization\": \"0-100\",\n",
    "        \"info\": \"MS/MS spectrum at 40eV collision energy in positive ion mode\"\n",
    "    },\n",
    "    \"msms_cfmid_fragments_positive\": {\n",
    "        \"format\": \"np.array(np.array([str, str]))\",\n",
    "        \"fields\": [\"m/z\", \"formula\"],\n",
    "        \"notation\": \"Including charge\",\n",
    "        \"info\": \"Predicted fragments with SMILES/molecular formulas in positive ion mode\"\n",
    "    },\n",
    "    \"msms_cfmid_negative_10ev\": {\n",
    "        \"format\": \"np.array(np.array([float, float]))\",\n",
    "        \"fields\": [\"m/z\", \"intensity\"],\n",
    "        \"normalization\": \"0-100\",\n",
    "        \"info\": \"MS/MS spectrum at 10eV collision energy in negative ion mode\"\n",
    "    },\n",
    "    \"msms_cfmid_negative_20ev\": {\n",
    "        \"format\": \"np.array(np.array([float, float]))\",\n",
    "        \"fields\": [\"m/z\", \"intensity\"],\n",
    "        \"normalization\": \"0-100\",\n",
    "        \"info\": \"MS/MS spectrum at 20eV collision energy in negative ion mode\"\n",
    "    },\n",
    "    \"msms_cfmid_negative_40ev\": {\n",
    "        \"format\": \"np.array(np.array([float, float]))\",\n",
    "        \"fields\": [\"m/z\", \"intensity\"],\n",
    "        \"normalization\": \"0-100\",\n",
    "        \"info\": \"MS/MS spectrum at 40eV collision energy in negative ion mode\"\n",
    "    },\n",
    "    \"msms_cfmid_fragments_negative\": {\n",
    "        \"format\": \"np.array(np.array([str, str]))\",\n",
    "        \"fields\": [\"m/z\", \"formula\"],\n",
    "        \"notation\": \"Including charge\",\n",
    "        \"info\": \"Predicted fragments with SMILES/molecular formulas in negative ion mode\"\n",
    "    },\n",
    "    \"msms_iceberg_positive\": {\n",
    "        \"format\": \"np.array(np.array([float, float]))\",\n",
    "        \"fields\": [\"m/z\", \"intensity\"],\n",
    "        \"normalization\": \"0-1\",\n",
    "        \"info\": \"MS/MS spectrum with normalized intensities using ICEBERG (positive ion mode)\"\n",
    "    },\n",
    "    \"msms_iceberg_fragments_positive\": {\n",
    "        \"format\": \"np.array(np.array([str, str]))\",\n",
    "        \"fields\": [\"m/z\", \"formula\"],\n",
    "        \"info\": \"Predicted fragments with molecular formulas using ICEBERG (positive ion mode)\"\n",
    "    },\n",
    "    \"msms_scarf_positive\": {\n",
    "        \"format\": \"np.array(np.array([float, float]))\",\n",
    "        \"fields\": [\"m/z\", \"intensity\"],\n",
    "        \"normalization\": \"0-1\",\n",
    "        \"info\": \"MS/MS spectrum with normalized intensities using SCARF (positive ion mode)\"\n",
    "    },\n",
    "    \"msms_scarf_fragments_positive\": {\n",
    "        \"format\": \"np.array(np.array([str, str]))\",\n",
    "        \"fields\": [\"m/z\", \"formula\"],\n",
    "        \"info\": \"Predicted fragments with molecular formulas using SCARF (positive ion mode)\"\n",
    "    }\n",
    "}\n",
    "\n",
    "\n",
    "with open(\"../data/meta_data/meta_data_dict.json\", \"w\") as outfile: \n",
    "    json.dump(meta_data_dict, outfile)\n",
    "    \n",
    "with open(\"../data/meta_data/spectrum_dimensions.json\", \"w\") as outfile: \n",
    "    json.dump(spectrum_dimensions, outfile)\n"
   ]
  },
  {
   "cell_type": "markdown",
   "metadata": {},
   "source": [
    "# Load Meta data information"
   ]
  },
  {
   "cell_type": "code",
   "execution_count": 58,
   "metadata": {},
   "outputs": [
    {
     "data": {
      "text/plain": [
       "dict_keys(['smiles', 'molecular_formula', 'h_nmr_spectra', 'c_nmr_spectra', 'h_nmr_peaks', 'c_nmr_peaks', 'hsqc_nmr_spectrum', 'hsqc_nmr_peaks', 'ir_spectra', 'msms_cfmid_positive_10ev', 'msms_cfmid_positive_20ev', 'msms_cfmid_positive_40ev', 'msms_cfmid_fragments_positive', 'msms_cfmid_negative_10ev', 'msms_cfmid_negative_20ev', 'msms_cfmid_negative_40ev', 'msms_cfmid_fragments_negative', 'msms_iceberg_positive', 'msms_iceberg_fragments_positive', 'msms_scarf_positive', 'msms_scarf_fragments_positive'])"
      ]
     },
     "execution_count": 58,
     "metadata": {},
     "output_type": "execute_result"
    }
   ],
   "source": [
    "with open(\"../data/meta_data/meta_data_dict.json\") as json_file:\n",
    "    meta_data = json.load(json_file)\n",
    "meta_data.keys()"
   ]
  },
  {
   "cell_type": "code",
   "execution_count": 59,
   "metadata": {},
   "outputs": [],
   "source": [
    "h_nmr_peaks = df['h_nmr_spectra']\n",
    "h_nmr_ppm = meta_data['h_nmr_spectra']['dimensions']"
   ]
  }
 ],
 "metadata": {
  "kernelspec": {
   "display_name": "optim",
   "language": "python",
   "name": "python3"
  },
  "language_info": {
   "codemirror_mode": {
    "name": "ipython",
    "version": 3
   },
   "file_extension": ".py",
   "mimetype": "text/x-python",
   "name": "python",
   "nbconvert_exporter": "python",
   "pygments_lexer": "ipython3",
   "version": "3.8.13"
  }
 },
 "nbformat": 4,
 "nbformat_minor": 2
}
